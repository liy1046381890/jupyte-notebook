{
 "cells": [
  {
   "cell_type": "code",
   "execution_count": 9,
   "metadata": {},
   "outputs": [],
   "source": [
    "import pandas as pd\n",
    "import numpy as np\n",
    "import webbrowser\n",
    "import pickle"
   ]
  },
  {
   "cell_type": "code",
   "execution_count": 2,
   "metadata": {},
   "outputs": [],
   "source": [
    "link = \"https://www.tiobe.com/tiobe-index/\""
   ]
  },
  {
   "cell_type": "code",
   "execution_count": 3,
   "metadata": {},
   "outputs": [
    {
     "data": {
      "text/plain": [
       "True"
      ]
     },
     "execution_count": 3,
     "metadata": {},
     "output_type": "execute_result"
    }
   ],
   "source": [
    "webbrowser.open(link)"
   ]
  },
  {
   "cell_type": "code",
   "execution_count": 4,
   "metadata": {},
   "outputs": [],
   "source": [
    "df = pd.read_clipboard()"
   ]
  },
  {
   "cell_type": "code",
   "execution_count": 5,
   "metadata": {},
   "outputs": [
    {
     "data": {
      "text/html": [
       "<div>\n",
       "<style scoped>\n",
       "    .dataframe tbody tr th:only-of-type {\n",
       "        vertical-align: middle;\n",
       "    }\n",
       "\n",
       "    .dataframe tbody tr th {\n",
       "        vertical-align: top;\n",
       "    }\n",
       "\n",
       "    .dataframe thead th {\n",
       "        text-align: right;\n",
       "    }\n",
       "</style>\n",
       "<table border=\"1\" class=\"dataframe\">\n",
       "  <thead>\n",
       "    <tr style=\"text-align: right;\">\n",
       "      <th></th>\n",
       "      <th>Mar</th>\n",
       "      <th>2019</th>\n",
       "      <th>Mar.1</th>\n",
       "      <th>2018</th>\n",
       "      <th>Change</th>\n",
       "      <th>Programming</th>\n",
       "      <th>Language</th>\n",
       "      <th>Ratings</th>\n",
       "      <th>Change.1</th>\n",
       "    </tr>\n",
       "  </thead>\n",
       "  <tbody>\n",
       "    <tr>\n",
       "      <th>0</th>\n",
       "      <td>1</td>\n",
       "      <td>1</td>\n",
       "      <td>Java</td>\n",
       "      <td>14.880%</td>\n",
       "      <td>-0.06%</td>\n",
       "      <td>None</td>\n",
       "      <td>None</td>\n",
       "      <td>None</td>\n",
       "      <td>NaN</td>\n",
       "    </tr>\n",
       "    <tr>\n",
       "      <th>1</th>\n",
       "      <td>2</td>\n",
       "      <td>2</td>\n",
       "      <td>C</td>\n",
       "      <td>13.305%</td>\n",
       "      <td>+0.55%</td>\n",
       "      <td>None</td>\n",
       "      <td>None</td>\n",
       "      <td>None</td>\n",
       "      <td>NaN</td>\n",
       "    </tr>\n",
       "    <tr>\n",
       "      <th>2</th>\n",
       "      <td>3</td>\n",
       "      <td>4</td>\n",
       "      <td>change</td>\n",
       "      <td>Python</td>\n",
       "      <td>8.262%</td>\n",
       "      <td>+2.39%</td>\n",
       "      <td>None</td>\n",
       "      <td>None</td>\n",
       "      <td>NaN</td>\n",
       "    </tr>\n",
       "    <tr>\n",
       "      <th>3</th>\n",
       "      <td>4</td>\n",
       "      <td>3</td>\n",
       "      <td>change</td>\n",
       "      <td>C++</td>\n",
       "      <td>8.126%</td>\n",
       "      <td>+1.67%</td>\n",
       "      <td>None</td>\n",
       "      <td>None</td>\n",
       "      <td>NaN</td>\n",
       "    </tr>\n",
       "    <tr>\n",
       "      <th>4</th>\n",
       "      <td>5</td>\n",
       "      <td>6</td>\n",
       "      <td>change</td>\n",
       "      <td>Visual</td>\n",
       "      <td>Basic</td>\n",
       "      <td>.NET</td>\n",
       "      <td>6.429%</td>\n",
       "      <td>+2.34%</td>\n",
       "      <td>NaN</td>\n",
       "    </tr>\n",
       "    <tr>\n",
       "      <th>5</th>\n",
       "      <td>6</td>\n",
       "      <td>5</td>\n",
       "      <td>change</td>\n",
       "      <td>C#</td>\n",
       "      <td>3.267%</td>\n",
       "      <td>-1.80%</td>\n",
       "      <td>None</td>\n",
       "      <td>None</td>\n",
       "      <td>NaN</td>\n",
       "    </tr>\n",
       "    <tr>\n",
       "      <th>6</th>\n",
       "      <td>7</td>\n",
       "      <td>8</td>\n",
       "      <td>change</td>\n",
       "      <td>JavaScript</td>\n",
       "      <td>2.426%</td>\n",
       "      <td>-1.49%</td>\n",
       "      <td>None</td>\n",
       "      <td>None</td>\n",
       "      <td>NaN</td>\n",
       "    </tr>\n",
       "    <tr>\n",
       "      <th>7</th>\n",
       "      <td>8</td>\n",
       "      <td>7</td>\n",
       "      <td>change</td>\n",
       "      <td>PHP</td>\n",
       "      <td>2.420%</td>\n",
       "      <td>-1.59%</td>\n",
       "      <td>None</td>\n",
       "      <td>None</td>\n",
       "      <td>NaN</td>\n",
       "    </tr>\n",
       "    <tr>\n",
       "      <th>8</th>\n",
       "      <td>9</td>\n",
       "      <td>10</td>\n",
       "      <td>change</td>\n",
       "      <td>SQL</td>\n",
       "      <td>1.926%</td>\n",
       "      <td>-0.76%</td>\n",
       "      <td>None</td>\n",
       "      <td>None</td>\n",
       "      <td>NaN</td>\n",
       "    </tr>\n",
       "    <tr>\n",
       "      <th>9</th>\n",
       "      <td>10</td>\n",
       "      <td>14</td>\n",
       "      <td>change</td>\n",
       "      <td>Objective-C</td>\n",
       "      <td>1.681%</td>\n",
       "      <td>-0.09%</td>\n",
       "      <td>None</td>\n",
       "      <td>None</td>\n",
       "      <td>NaN</td>\n",
       "    </tr>\n",
       "  </tbody>\n",
       "</table>\n",
       "</div>"
      ],
      "text/plain": [
       "   Mar  2019   Mar.1         2018  Change Programming Language Ratings  \\\n",
       "0    1     1    Java      14.880%  -0.06%        None     None    None   \n",
       "1    2     2       C      13.305%  +0.55%        None     None    None   \n",
       "2    3     4  change       Python  8.262%      +2.39%     None    None   \n",
       "3    4     3  change          C++  8.126%      +1.67%     None    None   \n",
       "4    5     6  change       Visual   Basic        .NET   6.429%  +2.34%   \n",
       "5    6     5  change           C#  3.267%      -1.80%     None    None   \n",
       "6    7     8  change   JavaScript  2.426%      -1.49%     None    None   \n",
       "7    8     7  change          PHP  2.420%      -1.59%     None    None   \n",
       "8    9    10  change          SQL  1.926%      -0.76%     None    None   \n",
       "9   10    14  change  Objective-C  1.681%      -0.09%     None    None   \n",
       "\n",
       "   Change.1  \n",
       "0       NaN  \n",
       "1       NaN  \n",
       "2       NaN  \n",
       "3       NaN  \n",
       "4       NaN  \n",
       "5       NaN  \n",
       "6       NaN  \n",
       "7       NaN  \n",
       "8       NaN  \n",
       "9       NaN  "
      ]
     },
     "execution_count": 5,
     "metadata": {},
     "output_type": "execute_result"
    }
   ],
   "source": [
    "df"
   ]
  },
  {
   "cell_type": "code",
   "execution_count": 6,
   "metadata": {},
   "outputs": [
    {
     "data": {
      "text/plain": [
       "array([0, 1, 2, 3, 4, 5, 6, 7, 8, 9])"
      ]
     },
     "execution_count": 6,
     "metadata": {},
     "output_type": "execute_result"
    }
   ],
   "source": [
    "arr = np.arange(10)\n",
    "arr"
   ]
  },
  {
   "cell_type": "code",
   "execution_count": 10,
   "metadata": {},
   "outputs": [],
   "source": [
    "with open('arr.pk', 'wb') as f:\n",
    "    pickle.dump(arr, f)"
   ]
  },
  {
   "cell_type": "code",
   "execution_count": 12,
   "metadata": {},
   "outputs": [
    {
     "name": "stdout",
     "output_type": "stream",
     "text": [
      " 驱动器 F 中的卷没有标签。\n",
      " 卷的序列号是 8046-313F\n",
      "\n",
      " F:\\jupyter_notebook 的目录\n",
      "\n",
      "2019/03/20  10:10    <DIR>          .\n",
      "2019/03/20  10:10    <DIR>          ..\n",
      "2019/03/15  20:11                77 .gitignore\n",
      "2019/03/19  13:51    <DIR>          .idea\n",
      "2019/03/19  20:58    <DIR>          .ipynb_checkpoints\n",
      "2019/03/20  10:10               195 arr.pk\n",
      "2019/03/19  10:45             3,258 new_submission_Titanic.csv\n",
      "2019/03/15  18:22             3,258 submission_Titanic.csv\n",
      "2019/03/12  14:50                87 test.py\n",
      "2019/03/15  10:51    <DIR>          titanic\n",
      "2019/03/19  13:15           187,639 titanic.ipynb\n",
      "2019/03/19  10:13             1,591 titanic.py\n",
      "2019/03/20  10:10             8,902 Untitled.ipynb\n",
      "               8 个文件        205,007 字节\n",
      "               5 个目录 439,356,297,216 可用字节\n"
     ]
    }
   ],
   "source": [
    "!dir"
   ]
  },
  {
   "cell_type": "code",
   "execution_count": 15,
   "metadata": {},
   "outputs": [
    {
     "data": {
      "text/plain": [
       "array([0, 1, 2, 3, 4, 5, 6, 7, 8, 9])"
      ]
     },
     "execution_count": 15,
     "metadata": {},
     "output_type": "execute_result"
    }
   ],
   "source": [
    "with open('arr.pk', 'rb') as f:\n",
    "    arr1 = pickle.load(f)\n",
    "arr1"
   ]
  },
  {
   "cell_type": "code",
   "execution_count": 26,
   "metadata": {},
   "outputs": [
    {
     "data": {
      "text/plain": [
       "array([0, 1, 2, 3, 4, 5, 6, 7, 8, 9])"
      ]
     },
     "execution_count": 26,
     "metadata": {},
     "output_type": "execute_result"
    }
   ],
   "source": [
    "arr1"
   ]
  },
  {
   "cell_type": "code",
   "execution_count": 46,
   "metadata": {},
   "outputs": [],
   "source": [
    "np.savez('arrz', a=arr, b=arr1)"
   ]
  },
  {
   "cell_type": "code",
   "execution_count": 44,
   "metadata": {},
   "outputs": [
    {
     "name": "stdout",
     "output_type": "stream",
     "text": [
      " 驱动器 F 中的卷没有标签。\n",
      " 卷的序列号是 8046-313F\n",
      "\n",
      " F:\\jupyter_notebook 的目录\n",
      "\n",
      "2019/03/20  10:20    <DIR>          .\n",
      "2019/03/20  10:20    <DIR>          ..\n",
      "2019/03/15  20:11                77 .gitignore\n",
      "2019/03/19  13:51    <DIR>          .idea\n",
      "2019/03/19  20:58    <DIR>          .ipynb_checkpoints\n",
      "2019/03/20  10:21               530 arrz.npy.npz\n",
      "2019/03/19  10:45             3,258 new_submission_Titanic.csv\n",
      "2019/03/15  18:22             3,258 submission_Titanic.csv\n",
      "2019/03/12  14:50                87 test.py\n",
      "2019/03/15  10:51    <DIR>          titanic\n",
      "2019/03/19  13:15           187,639 titanic.ipynb\n",
      "2019/03/19  10:13             1,591 titanic.py\n",
      "2019/03/20  10:20            16,808 Untitled.ipynb\n",
      "               8 个文件        213,248 字节\n",
      "               5 个目录 439,394,070,528 可用字节\n"
     ]
    }
   ],
   "source": [
    "!dir"
   ]
  },
  {
   "cell_type": "code",
   "execution_count": 51,
   "metadata": {},
   "outputs": [],
   "source": [
    "s = np.load('arrz.npz')"
   ]
  },
  {
   "cell_type": "code",
   "execution_count": 53,
   "metadata": {},
   "outputs": [
    {
     "data": {
      "text/plain": [
       "array([0, 1, 2, 3, 4, 5, 6, 7, 8, 9])"
      ]
     },
     "execution_count": 53,
     "metadata": {},
     "output_type": "execute_result"
    }
   ],
   "source": [
    "s['b']"
   ]
  },
  {
   "cell_type": "code",
   "execution_count": 2,
   "metadata": {},
   "outputs": [],
   "source": [
    "import pandas as pd\n",
    "import numpy as np\n",
    "from pandas import Series,DataFrame"
   ]
  },
  {
   "cell_type": "code",
   "execution_count": 5,
   "metadata": {},
   "outputs": [],
   "source": [
    "s1 = Series(np.random.randn(10))"
   ]
  },
  {
   "cell_type": "code",
   "execution_count": 6,
   "metadata": {},
   "outputs": [
    {
     "data": {
      "text/plain": [
       "0   -1.133272\n",
       "1    0.997571\n",
       "2   -1.231154\n",
       "3    0.075848\n",
       "4    1.513742\n",
       "5    0.725285\n",
       "6   -0.825640\n",
       "7    0.345764\n",
       "8    0.177987\n",
       "9   -1.460989\n",
       "dtype: float64"
      ]
     },
     "execution_count": 6,
     "metadata": {},
     "output_type": "execute_result"
    }
   ],
   "source": [
    "s1"
   ]
  },
  {
   "cell_type": "code",
   "execution_count": 7,
   "metadata": {},
   "outputs": [
    {
     "data": {
      "text/plain": [
       "9   -1.460989\n",
       "2   -1.231154\n",
       "0   -1.133272\n",
       "6   -0.825640\n",
       "3    0.075848\n",
       "8    0.177987\n",
       "7    0.345764\n",
       "5    0.725285\n",
       "1    0.997571\n",
       "4    1.513742\n",
       "dtype: float64"
      ]
     },
     "execution_count": 7,
     "metadata": {},
     "output_type": "execute_result"
    }
   ],
   "source": [
    "s1.sort_values()"
   ]
  },
  {
   "cell_type": "code",
   "execution_count": 10,
   "metadata": {},
   "outputs": [],
   "source": [
    "df1 = DataFrame(np.random.randn(40).reshape(8,5),columns = ['A','B','C','D','E'])"
   ]
  },
  {
   "cell_type": "code",
   "execution_count": 14,
   "metadata": {},
   "outputs": [
    {
     "data": {
      "text/html": [
       "<div>\n",
       "<style scoped>\n",
       "    .dataframe tbody tr th:only-of-type {\n",
       "        vertical-align: middle;\n",
       "    }\n",
       "\n",
       "    .dataframe tbody tr th {\n",
       "        vertical-align: top;\n",
       "    }\n",
       "\n",
       "    .dataframe thead th {\n",
       "        text-align: right;\n",
       "    }\n",
       "</style>\n",
       "<table border=\"1\" class=\"dataframe\">\n",
       "  <thead>\n",
       "    <tr style=\"text-align: right;\">\n",
       "      <th></th>\n",
       "      <th>A</th>\n",
       "      <th>B</th>\n",
       "      <th>C</th>\n",
       "      <th>D</th>\n",
       "      <th>E</th>\n",
       "    </tr>\n",
       "  </thead>\n",
       "  <tbody>\n",
       "    <tr>\n",
       "      <th>7</th>\n",
       "      <td>-1.780509</td>\n",
       "      <td>0.305676</td>\n",
       "      <td>-1.683662</td>\n",
       "      <td>-0.318091</td>\n",
       "      <td>-0.188426</td>\n",
       "    </tr>\n",
       "    <tr>\n",
       "      <th>3</th>\n",
       "      <td>-0.868392</td>\n",
       "      <td>-0.593849</td>\n",
       "      <td>-0.953684</td>\n",
       "      <td>0.674418</td>\n",
       "      <td>-0.631376</td>\n",
       "    </tr>\n",
       "    <tr>\n",
       "      <th>4</th>\n",
       "      <td>-0.498925</td>\n",
       "      <td>-0.417482</td>\n",
       "      <td>-0.580383</td>\n",
       "      <td>-1.051799</td>\n",
       "      <td>-0.090371</td>\n",
       "    </tr>\n",
       "    <tr>\n",
       "      <th>6</th>\n",
       "      <td>-0.391964</td>\n",
       "      <td>-0.529190</td>\n",
       "      <td>0.237840</td>\n",
       "      <td>1.163391</td>\n",
       "      <td>-0.494745</td>\n",
       "    </tr>\n",
       "    <tr>\n",
       "      <th>1</th>\n",
       "      <td>0.052529</td>\n",
       "      <td>0.442811</td>\n",
       "      <td>0.145415</td>\n",
       "      <td>-0.405865</td>\n",
       "      <td>-1.163101</td>\n",
       "    </tr>\n",
       "    <tr>\n",
       "      <th>5</th>\n",
       "      <td>0.091292</td>\n",
       "      <td>1.282275</td>\n",
       "      <td>-0.699450</td>\n",
       "      <td>0.008569</td>\n",
       "      <td>0.030320</td>\n",
       "    </tr>\n",
       "    <tr>\n",
       "      <th>2</th>\n",
       "      <td>0.948441</td>\n",
       "      <td>-2.188084</td>\n",
       "      <td>1.412095</td>\n",
       "      <td>-2.030707</td>\n",
       "      <td>1.328337</td>\n",
       "    </tr>\n",
       "    <tr>\n",
       "      <th>0</th>\n",
       "      <td>1.622860</td>\n",
       "      <td>0.350438</td>\n",
       "      <td>1.708836</td>\n",
       "      <td>0.573237</td>\n",
       "      <td>-2.824134</td>\n",
       "    </tr>\n",
       "  </tbody>\n",
       "</table>\n",
       "</div>"
      ],
      "text/plain": [
       "          A         B         C         D         E\n",
       "7 -1.780509  0.305676 -1.683662 -0.318091 -0.188426\n",
       "3 -0.868392 -0.593849 -0.953684  0.674418 -0.631376\n",
       "4 -0.498925 -0.417482 -0.580383 -1.051799 -0.090371\n",
       "6 -0.391964 -0.529190  0.237840  1.163391 -0.494745\n",
       "1  0.052529  0.442811  0.145415 -0.405865 -1.163101\n",
       "5  0.091292  1.282275 -0.699450  0.008569  0.030320\n",
       "2  0.948441 -2.188084  1.412095 -2.030707  1.328337\n",
       "0  1.622860  0.350438  1.708836  0.573237 -2.824134"
      ]
     },
     "execution_count": 14,
     "metadata": {},
     "output_type": "execute_result"
    }
   ],
   "source": [
    "df1.sort_values('A')"
   ]
  },
  {
   "cell_type": "code",
   "execution_count": 16,
   "metadata": {},
   "outputs": [
    {
     "name": "stdout",
     "output_type": "stream",
     "text": [
      "A\n",
      "B\n",
      "C\n",
      "{'_generate_next_value_': <function Enum._generate_next_value_ at 0x000002EBBFD8BF28>, '__module__': '__main__', '__doc__': 'An enumeration.', '_member_names_': ['A', 'C'], '_member_map_': OrderedDict([('A', <V.A: 1>), ('B', <V.A: 1>), ('C', <V.C: 2>)]), '_member_type_': <class 'object'>, '_value2member_map_': {1: <V.A: 1>, 2: <V.C: 2>}, 'A': <V.A: 1>, 'B': <V.A: 1>, 'C': <V.C: 2>, '__new__': <function Enum.__new__ at 0x000002EBBFD8BEA0>}\n",
      "OrderedDict([('A', <V.A: 1>), ('B', <V.A: 1>), ('C', <V.C: 2>)])\n"
     ]
    }
   ],
   "source": [
    "# 枚举\n",
    "from enum import Enum,unique,IntEnum\n",
    "class V(Enum):\n",
    "    A=1\n",
    "    B=1\n",
    "    C=2\n",
    "for i,v in V.__members__.items():\n",
    "    print(i)\n",
    "print(V.__dict__)\n",
    "print(V.__members__)"
   ]
  },
  {
   "cell_type": "code",
   "execution_count": 41,
   "metadata": {},
   "outputs": [
    {
     "name": "stdout",
     "output_type": "stream",
     "text": [
      "0\n",
      "2\n",
      "2\n",
      "5\n",
      "5\n",
      "0\n"
     ]
    }
   ],
   "source": [
    "# 闭包\n",
    "origin = 0\n",
    "def go(point=origin):\n",
    "    def pos(step):\n",
    "        nonlocal point\n",
    "        new_pos = point + step\n",
    "        point = new_pos\n",
    "        return new_pos\n",
    "    return pos\n",
    "f = go()\n",
    "print(f.__closure__[0].cell_contents)\n",
    "print(f(2))\n",
    "print(f.__closure__[0].cell_contents)\n",
    "print(f(3))\n",
    "print(f.__closure__[0].cell_contents)"
   ]
  },
  {
   "cell_type": "code",
   "execution_count": 21,
   "metadata": {},
   "outputs": [
    {
     "data": {
      "text/plain": [
       "<matplotlib.axes._subplots.AxesSubplot at 0x2448ffa3470>"
      ]
     },
     "execution_count": 21,
     "metadata": {},
     "output_type": "execute_result"
    },
    {
     "data": {
      "image/png": "[encoded data removed]",
      "text/plain": [
       "<Figure size 432x288 with 1 Axes>"
      ]
     },
     "metadata": {},
     "output_type": "display_data"
    }
   ],
   "source": [
    "import matplotlib.pyplot as plt\n",
    "from pandas import Series\n",
    "s1 = Series(np.array([1,2]))\n",
    "s1.plot.pie()"
   ]
  },
  {
   "cell_type": "code",
   "execution_count": null,
   "metadata": {},
   "outputs": [],
   "source": []
  }
 ],
 "metadata": {
  "kernelspec": {
   "display_name": "Python 3",
   "language": "python",
   "name": "python3"
  },
  "language_info": {
   "codemirror_mode": {
    "name": "ipython",
    "version": 3
   },
   "file_extension": ".py",
   "mimetype": "text/x-python",
   "name": "python",
   "nbconvert_exporter": "python",
   "pygments_lexer": "ipython3",
   "version": "3.7.1"
  }
 },
 "nbformat": 4,
 "nbformat_minor": 2
}

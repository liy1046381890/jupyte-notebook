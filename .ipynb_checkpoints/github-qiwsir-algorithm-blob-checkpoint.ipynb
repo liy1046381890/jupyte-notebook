{
 "cells": [
  {
   "cell_type": "markdown",
   "metadata": {},
   "source": [
    "2d_list"
   ]
  },
  {
   "cell_type": "code",
   "execution_count": 15,
   "metadata": {
    "collapsed": true
   },
   "outputs": [
    {
     "data": {
      "text/plain": [
       "(array([[ 78,  78,  60,  81,  49],\n",
       "        [ 93,  38,   9,  45,  82],\n",
       "        [  2,  57,  70,  20, 100],\n",
       "        [ 24,  85,  78,  83,  94],\n",
       "        [ 65,  34,  93,   0,  91],\n",
       "        [ 87,  97,  72,  82,  99],\n",
       "        [ 43,  92,  84,  51,  29],\n",
       "        [ 80,  50,  81,  26,  29],\n",
       "        [ 75,  52,  47,  37,  77],\n",
       "        [ 26,  41,  85,   9,  33],\n",
       "        [ 61,  67,   9,  86,  59],\n",
       "        [ 45,  59,  85,  60,  43],\n",
       "        [ 51,  96,  39,   1,  96],\n",
       "        [ 81,  97,  38,  27,   2],\n",
       "        [ 90,  97,  75,   7,   1],\n",
       "        [ 28,  67,  15,  52,  96],\n",
       "        [  9,   6,  93,  47,  68],\n",
       "        [ 45,  62,  73,  67, 100],\n",
       "        [ 88,  74,  36,  17,  86],\n",
       "        [ 31,  81,  28,  28,  19]]),\n",
       " [55.1, 66.5, 58.5, 41.3, 62.65],\n",
       " [69.2,\n",
       "  53.4,\n",
       "  49.8,\n",
       "  72.8,\n",
       "  56.6,\n",
       "  87.4,\n",
       "  59.8,\n",
       "  53.2,\n",
       "  57.6,\n",
       "  38.8,\n",
       "  56.4,\n",
       "  58.4,\n",
       "  56.6,\n",
       "  49.0,\n",
       "  54.0,\n",
       "  51.6,\n",
       "  44.6,\n",
       "  69.4,\n",
       "  60.2,\n",
       "  37.4])"
      ]
     },
     "execution_count": 15,
     "metadata": {},
     "output_type": "execute_result"
    }
   ],
   "source": [
    "import numpy as np\n",
    "import random\n",
    "def score():\n",
    "    lst = [random.randint(0,100) for _ in range(100)]\n",
    "    score = np.array(lst).reshape(20,5)\n",
    "    return score, list(np.mean(score, axis=0)), list(np.mean(score, axis=1))\n",
    "score()"
   ]
  },
  {
   "cell_type": "markdown",
   "metadata": {},
   "source": [
    "ahead_one_step"
   ]
  },
  {
   "cell_type": "code",
   "execution_count": null,
   "metadata": {},
   "outputs": [],
   "source": [
    "from queue import Queue\n",
    "def ahead_one_step(lst: list):\n",
    "    q = Queue(len(lst))\n",
    "    for i in lst:\n",
    "        q.put(i)\n",
    "    q.put(q.get())\n",
    "    return [q.get() for _ in lst]\n",
    "ahead_one_step(range(10))"
   ]
  },
  {
   "cell_type": "markdown",
   "metadata": {},
   "source": [
    "average_score"
   ]
  },
  {
   "cell_type": "code",
   "execution_count": null,
   "metadata": {},
   "outputs": [],
   "source": [
    "import random\n",
    "def find_index(num, lst):\n",
    "    left, right = len(lst)//2, ~len(lst)//2\n",
    "    while num<left or num>=right:\n",
    "        if num<left:\n",
    "            lst = lst[left:]\n",
    "            left, right = len(lst)//2, ~len(lst)//2\n",
    "        if num>=right:\n",
    "            lst = lst[:right]\n",
    "            left, right = len(lst)//2, ~len(lst)//2\n",
    "    return right\n",
    "\n",
    "def average_score(num: int=40):\n",
    "    lst = [random.randint(0,100) for _ in range(num)]\n",
    "    lst.sort(reverse=True)\n",
    "    return lst[find_index(sum(lst)/num, lst):], lst\n",
    "average_score()"
   ]
  },
  {
   "cell_type": "code",
   "execution_count": null,
   "metadata": {},
   "outputs": [],
   "source": []
  }
 ],
 "metadata": {
  "kernelspec": {
   "display_name": "Python 3",
   "language": "python",
   "name": "python3"
  },
  "language_info": {
   "codemirror_mode": {
    "name": "ipython",
    "version": 3
   },
   "file_extension": ".py",
   "mimetype": "text/x-python",
   "name": "python",
   "nbconvert_exporter": "python",
   "pygments_lexer": "ipython3",
   "version": "3.7.1"
  }
 },
 "nbformat": 4,
 "nbformat_minor": 2
}

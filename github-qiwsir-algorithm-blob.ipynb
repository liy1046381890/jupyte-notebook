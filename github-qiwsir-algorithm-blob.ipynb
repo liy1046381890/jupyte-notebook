{
 "cells": [
  {
   "cell_type": "markdown",
   "metadata": {},
   "source": [
    "2d_list"
   ]
  },
  {
   "cell_type": "code",
   "execution_count": 15,
   "metadata": {
    "collapsed": true
   },
   "outputs": [
    {
     "data": {
      "text/plain": [
       "(array([[ 78,  78,  60,  81,  49],\n",
       "        [ 93,  38,   9,  45,  82],\n",
       "        [  2,  57,  70,  20, 100],\n",
       "        [ 24,  85,  78,  83,  94],\n",
       "        [ 65,  34,  93,   0,  91],\n",
       "        [ 87,  97,  72,  82,  99],\n",
       "        [ 43,  92,  84,  51,  29],\n",
       "        [ 80,  50,  81,  26,  29],\n",
       "        [ 75,  52,  47,  37,  77],\n",
       "        [ 26,  41,  85,   9,  33],\n",
       "        [ 61,  67,   9,  86,  59],\n",
       "        [ 45,  59,  85,  60,  43],\n",
       "        [ 51,  96,  39,   1,  96],\n",
       "        [ 81,  97,  38,  27,   2],\n",
       "        [ 90,  97,  75,   7,   1],\n",
       "        [ 28,  67,  15,  52,  96],\n",
       "        [  9,   6,  93,  47,  68],\n",
       "        [ 45,  62,  73,  67, 100],\n",
       "        [ 88,  74,  36,  17,  86],\n",
       "        [ 31,  81,  28,  28,  19]]),\n",
       " [55.1, 66.5, 58.5, 41.3, 62.65],\n",
       " [69.2,\n",
       "  53.4,\n",
       "  49.8,\n",
       "  72.8,\n",
       "  56.6,\n",
       "  87.4,\n",
       "  59.8,\n",
       "  53.2,\n",
       "  57.6,\n",
       "  38.8,\n",
       "  56.4,\n",
       "  58.4,\n",
       "  56.6,\n",
       "  49.0,\n",
       "  54.0,\n",
       "  51.6,\n",
       "  44.6,\n",
       "  69.4,\n",
       "  60.2,\n",
       "  37.4])"
      ]
     },
     "execution_count": 15,
     "metadata": {},
     "output_type": "execute_result"
    }
   ],
   "source": [
    "import numpy as np\n",
    "import random\n",
    "def score():\n",
    "    lst = [random.randint(0,100) for _ in range(100)]\n",
    "    score = np.array(lst).reshape(20,5)\n",
    "    return score, list(np.mean(score, axis=0)), list(np.mean(score, axis=1))\n",
    "score()"
   ]
  },
  {
   "cell_type": "markdown",
   "metadata": {},
   "source": [
    "ahead_one_step"
   ]
  },
  {
   "cell_type": "code",
   "execution_count": null,
   "metadata": {},
   "outputs": [],
   "source": [
    "from queue import Queue\n",
    "def ahead_one_step(lst: list):\n",
    "    q = Queue(len(lst))\n",
    "    for i in lst:\n",
    "        q.put(i)\n",
    "    q.put(q.get())\n",
    "    return [q.get() for _ in lst]\n",
    "ahead_one_step(range(10))"
   ]
  },
  {
   "cell_type": "markdown",
   "metadata": {},
   "source": [
    "average_score"
   ]
  },
  {
   "cell_type": "code",
   "execution_count": 25,
   "metadata": {
    "collapsed": true
   },
   "outputs": [
    {
     "data": {
      "text/plain": [
       "(48.65,\n",
       " [2,\n",
       "  3,\n",
       "  4,\n",
       "  5,\n",
       "  13,\n",
       "  15,\n",
       "  19,\n",
       "  22,\n",
       "  23,\n",
       "  30,\n",
       "  30,\n",
       "  30,\n",
       "  32,\n",
       "  33,\n",
       "  33,\n",
       "  37,\n",
       "  38,\n",
       "  38,\n",
       "  41,\n",
       "  42,\n",
       "  44,\n",
       "  44,\n",
       "  46],\n",
       " [100,\n",
       "  98,\n",
       "  98,\n",
       "  92,\n",
       "  88,\n",
       "  86,\n",
       "  84,\n",
       "  83,\n",
       "  79,\n",
       "  76,\n",
       "  68,\n",
       "  66,\n",
       "  65,\n",
       "  64,\n",
       "  59,\n",
       "  59,\n",
       "  57,\n",
       "  46,\n",
       "  44,\n",
       "  44,\n",
       "  42,\n",
       "  41,\n",
       "  38,\n",
       "  38,\n",
       "  37,\n",
       "  33,\n",
       "  33,\n",
       "  32,\n",
       "  30,\n",
       "  30,\n",
       "  30,\n",
       "  23,\n",
       "  22,\n",
       "  19,\n",
       "  15,\n",
       "  13,\n",
       "  5,\n",
       "  4,\n",
       "  3,\n",
       "  2])"
      ]
     },
     "execution_count": 25,
     "metadata": {},
     "output_type": "execute_result"
    }
   ],
   "source": [
    "import random\n",
    "from bisect import bisect_left\n",
    "def average_score(num: int=40):\n",
    "    lst = [random.randint(0,100) for _ in range(num)]\n",
    "    lst.sort()\n",
    "    return sum(lst)/num, lst[:bisect_left(lst, sum(lst)/num)], lst[::-1]\n",
    "average_score()"
   ]
  },
  {
   "attachments": {
    "11.png": {
     "image/png": "[encoded data removed]"
    }
   },
   "cell_type": "markdown",
   "metadata": {},
   "source": [
    "big_int  阿拉伯乘法\n",
    "![11.png](attachment:11.png)"
   ]
  },
  {
   "cell_type": "code",
   "execution_count": 17,
   "metadata": {},
   "outputs": [
    {
     "data": {
      "text/plain": [
       "12354"
      ]
     },
     "execution_count": 17,
     "metadata": {},
     "output_type": "execute_result"
    }
   ],
   "source": [
    "def arabic_multiplication(num1, num2):\n",
    "    result = 0\n",
    "    num1 = str(num1)\n",
    "    num2 = str(num2)\n",
    "    lst = [[] for _ in range(len(num1+num2))]\n",
    "    tmp = [[eval(f'{i}*{j}') for i in num1] for j in num2]\n",
    "    for i in range(len(num2)):\n",
    "        index = i\n",
    "        for j in range(len(num1)):\n",
    "            letters = f'{tmp[i][j]:02d}'\n",
    "            lst[index].append(letters[0])\n",
    "            lst[index+1].append(letters[1])\n",
    "            index += 1\n",
    "            \n",
    "    for i, v in enumerate(lst):\n",
    "        result += 10**(len(lst)-i-1)*sum(map(int, v))\n",
    "        \n",
    "    return result\n",
    "arabic_multiplication(213,58)"
   ]
  },
  {
   "cell_type": "code",
   "execution_count": 11,
   "metadata": {},
   "outputs": [
    {
     "data": {
      "text/plain": [
       "'03'"
      ]
     },
     "execution_count": 11,
     "metadata": {},
     "output_type": "execute_result"
    }
   ],
   "source": [
    "f'{3:02d}'"
   ]
  },
  {
   "cell_type": "code",
   "execution_count": null,
   "metadata": {},
   "outputs": [],
   "source": []
  }
 ],
 "metadata": {
  "kernelspec": {
   "display_name": "Python 3",
   "language": "python",
   "name": "python3"
  },
  "language_info": {
   "codemirror_mode": {
    "name": "ipython",
    "version": 3
   },
   "file_extension": ".py",
   "mimetype": "text/x-python",
   "name": "python",
   "nbconvert_exporter": "python",
   "pygments_lexer": "ipython3",
   "version": "3.7.1"
  }
 },
 "nbformat": 4,
 "nbformat_minor": 2
}
